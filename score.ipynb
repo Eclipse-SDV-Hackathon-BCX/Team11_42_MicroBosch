{
 "cells": [
  {
   "cell_type": "code",
   "execution_count": 223,
   "id": "b1621e8b",
   "metadata": {},
   "outputs": [],
   "source": [
    "import pandas as pd\n",
    "pd.options.display.float_format = '{:,.10f}'.format\n",
    "import numpy as np\n",
    "import json\n",
    "from sklearn import preprocessing"
   ]
  },
  {
   "cell_type": "code",
   "execution_count": 218,
   "id": "ede91e30",
   "metadata": {},
   "outputs": [],
   "source": [
    "f = open('data.json')"
   ]
  },
  {
   "cell_type": "code",
   "execution_count": 219,
   "id": "c92c3b7e",
   "metadata": {},
   "outputs": [],
   "source": [
    "data = json.load(f)"
   ]
  },
  {
   "cell_type": "code",
   "execution_count": 220,
   "id": "386b3dc4",
   "metadata": {},
   "outputs": [],
   "source": [
    "#data"
   ]
  },
  {
   "cell_type": "code",
   "execution_count": null,
   "id": "f1ebcf3b",
   "metadata": {},
   "outputs": [],
   "source": []
  },
  {
   "cell_type": "code",
   "execution_count": null,
   "id": "a487347c",
   "metadata": {},
   "outputs": [],
   "source": []
  },
  {
   "cell_type": "code",
   "execution_count": null,
   "id": "8ab741f4",
   "metadata": {},
   "outputs": [],
   "source": []
  },
  {
   "cell_type": "code",
   "execution_count": null,
   "id": "449b27af",
   "metadata": {},
   "outputs": [],
   "source": []
  },
  {
   "cell_type": "code",
   "execution_count": 221,
   "id": "e3bbc714",
   "metadata": {},
   "outputs": [],
   "source": [
    "#data = json.loads(f.read())\n",
    "#data"
   ]
  },
  {
   "cell_type": "code",
   "execution_count": 257,
   "id": "21bf06a3",
   "metadata": {},
   "outputs": [
    {
     "name": "stdout",
     "output_type": "stream",
     "text": [
      "Your score for all trip =  69.5\n",
      "Your score for last  12.273 seconds =  72.0\n"
     ]
    }
   ],
   "source": [
    "vel = []\n",
    "time = []\n",
    "diff_vel = []\n",
    "diff_time = []\n",
    "vel0 = 0\n",
    "vel1 = 0\n",
    "time0 = 0\n",
    "time1 = 0\n",
    "for i in data:\n",
    "    vel0 = float(vel1)\n",
    "    #vel0 = float(vel1) * 5 / 18\n",
    "    line = str(i)\n",
    "    vel1 = float(line.split(\": \")[1].split(\",\")[0])\n",
    "    #vel1 = float(line.split(\": \")[1].split(\",\")[0]) * 5 / 18\n",
    "    diff_vel_temp = float(vel1 - vel0)\n",
    "    \n",
    "    time0 = int(time1)\n",
    "    time1 = int(line.split(\": \")[2].split(\"}\")[0])\n",
    "    diff_time_temp = float(time1 - time0)\n",
    "    \n",
    "    #diff_vel.append(diff_vel_temp)\n",
    "    #diff_time.append(diff_time_temp)\n",
    "    vel.append(vel1)\n",
    "    time.append(time1)\n",
    "    #print(line.split(\": \")[1].split(\",\")[0] + \" \" + line.split(\": \")[2].split(\"}\")[0])\n",
    "\n",
    "preprocessing.normalize([vel])\n",
    "preprocessing.normalize([time])\n",
    "\n",
    "for i in range(len(vel)):\n",
    "    if i == 0:\n",
    "        diff_vel.append(0)\n",
    "    else:\n",
    "        diff_vel.append(vel[i] - vel[i - 1])\n",
    "\n",
    "for i in range(len(time)):\n",
    "    if i == 0:\n",
    "        diff_time.append(0)\n",
    "    else:\n",
    "        diff_time.append(time[i] - time[i - 1])\n",
    "\n",
    "acc = []\n",
    "for i in range(len(vel)):\n",
    "    if i == 0 :\n",
    "        acc.append(0)\n",
    "    else:\n",
    "        acc.append(diff_vel[i] * 1000 / (diff_time[i]))\n",
    "\n",
    "acc_diff = []\n",
    "for i in range(len(vel)):\n",
    "    if i == 0:\n",
    "        acc_diff.append(0)\n",
    "    else:\n",
    "        acc_diff.append(acc[i] - acc[i - 1])\n",
    "\n",
    "jerk = []\n",
    "for i in range(len(vel)):\n",
    "    if i == 0 :\n",
    "        jerk.append(0)\n",
    "    else:\n",
    "        jerk.append(abs(acc_diff[i] * 1000 / (diff_time[i])))\n",
    "\n",
    "data_list = [vel, time, diff_vel, diff_time, acc, acc_diff, jerk]\n",
    "#i = 0\n",
    "#while i < len(vel):\n",
    "#    print[i]\n",
    "#    i += 1\n",
    "df_table = pd.DataFrame(data_list).transpose()\n",
    "df_table.columns = ['velocity', 'time', 'diff_vel', 'diff_time', 'acc', 'acc_diff', 'jerk']\n",
    "df_table['peak'] = np.where(df_table['jerk'] >= 0.6 , 0, 1)\n",
    "overall_score = df_table['peak'].sum() / df_table['velocity'].count()\n",
    "overall_time = df_table['diff_time'].sum() \n",
    "print('Your score for all trip = ', overall_score * 100)\n",
    "last_100_score = df_table['peak'].tail(100).sum() / df_table['peak'].tail(100).count()\n",
    "last_100_time = df_table['diff_time'].tail(100).sum() \n",
    "print('Your score for last ', last_100_time / 1000, 'seconds = ', last_100_score * 100)"
   ]
  },
  {
   "cell_type": "code",
   "execution_count": 258,
   "id": "bc9b50e2",
   "metadata": {},
   "outputs": [],
   "source": [
    "#df_table['time'].plot(kind='kde')"
   ]
  },
  {
   "cell_type": "code",
   "execution_count": 259,
   "id": "833f3162",
   "metadata": {},
   "outputs": [],
   "source": [
    "#df_table.head(50)"
   ]
  },
  {
   "cell_type": "code",
   "execution_count": 260,
   "id": "d9583c58",
   "metadata": {},
   "outputs": [],
   "source": [
    "#df_table['velocity'].plot(kind='kde')"
   ]
  },
  {
   "cell_type": "code",
   "execution_count": 261,
   "id": "1813c35a",
   "metadata": {},
   "outputs": [],
   "source": [
    "#df_table.head(50)"
   ]
  },
  {
   "cell_type": "code",
   "execution_count": null,
   "id": "6fdf03b2",
   "metadata": {},
   "outputs": [],
   "source": []
  },
  {
   "cell_type": "code",
   "execution_count": null,
   "id": "b87c8215",
   "metadata": {},
   "outputs": [],
   "source": []
  },
  {
   "cell_type": "code",
   "execution_count": null,
   "id": "d463dff6",
   "metadata": {},
   "outputs": [],
   "source": []
  },
  {
   "cell_type": "code",
   "execution_count": 262,
   "id": "0104b24e",
   "metadata": {
    "scrolled": false
   },
   "outputs": [],
   "source": [
    "# vel = []\n",
    "# time = []\n",
    "# diff_vel = []\n",
    "# diff_time = []\n",
    "# vel0 = 0\n",
    "# vel1 = 0\n",
    "# time0 = 0\n",
    "# time1 = 0\n",
    "# with open('test1.txt') as f:\n",
    "#     for line in f:\n",
    "#         vel0 = float(vel1) * 5 / 18\n",
    "#         vel1 = float(line.split(\": \")[1].split(\",\")[0]) * 5 / 18\n",
    "#         diff_vel_temp = float(vel1 - vel0)\n",
    "        \n",
    "#         time0 = int(time1)\n",
    "#         time1 = int(line.split(\": \")[2].split(\"}\")[0])\n",
    "#         diff_time_temp = float(time1 - time0)\n",
    "        \n",
    "#         #diff_vel.append(diff_vel_temp)\n",
    "#         #diff_time.append(diff_time_temp)\n",
    "#         vel.append(vel1)\n",
    "#         time.append(time1)\n",
    "#         #print(line.split(\": \")[1].split(\",\")[0] + \" \" + line.split(\": \")[2].split(\"}\")[0])\n",
    "\n",
    "\n",
    "# for i in range(len(vel)):\n",
    "#     if i == 0:\n",
    "#         diff_vel.append(0)\n",
    "#     else:\n",
    "#         diff_vel.append(vel[i] - vel[i - 1])\n",
    "\n",
    "# for i in range(len(time)):\n",
    "#     if i == 0:\n",
    "#         diff_time.append(0)\n",
    "#     else:\n",
    "#         diff_time.append(time[i] - time[i - 1])\n",
    "\n",
    "# acc = []\n",
    "# for i in range(len(vel)):\n",
    "#     if i == 0 :\n",
    "#         acc.append(0)\n",
    "#     else:\n",
    "#         acc.append(diff_vel[i] * 1000 / (diff_time[i]))\n",
    "\n",
    "# acc_diff = []\n",
    "# for i in range(len(vel)):\n",
    "#     if i == 0:\n",
    "#         acc_diff.append(0)\n",
    "#     else:\n",
    "#         acc_diff.append(acc[i] - acc[i - 1])\n",
    "\n",
    "# jerk = []\n",
    "# for i in range(len(vel)):\n",
    "#     if i == 0 :\n",
    "#         jerk.append(0)\n",
    "#     else:\n",
    "#         jerk.append(abs(acc_diff[i] * 1000 / (diff_time[i])))\n",
    "\n",
    "# data_list = [vel, time, diff_vel, diff_time, acc, acc_diff, jerk]\n",
    "# #i = 0\n",
    "# #while i < len(vel):\n",
    "# #    print[i]\n",
    "# #    i += 1\n",
    "# df_table = pd.DataFrame(data_list).transpose()\n",
    "# df_table.columns = ['velocity', 'time', 'diff_vel', 'diff_time', 'acc', 'acc_diff', 'jerk']\n",
    "# df_table['peak'] = np.where(df_table['jerk'] >= 0.6 , 0, 1)\n",
    "# overall_score = df_table['peak'].sum() / df_table['velocity'].count()\n",
    "# overall_time = df_table['diff_time'].sum() \n",
    "# print(overall_score * 100,  ' for ' , overall_time / 1000, ' seconds')\n",
    "# last_100_score = df_table['peak'].tail(100).sum() / df_table['peak'].tail(100).count()\n",
    "# last_100_time = df_table['diff_time'].tail(100).sum() \n",
    "# print(last_500_score * 100,  ' for ' , last_500_time / 1000, ' seconds')"
   ]
  },
  {
   "cell_type": "code",
   "execution_count": null,
   "id": "9a170fff",
   "metadata": {},
   "outputs": [],
   "source": []
  },
  {
   "cell_type": "code",
   "execution_count": 232,
   "id": "0efaa854",
   "metadata": {},
   "outputs": [],
   "source": [
    "import matplotlib.pyplot as plt\n",
    "from scipy.misc import electrocardiogram\n",
    "from scipy.signal import find_peaks"
   ]
  },
  {
   "cell_type": "code",
   "execution_count": null,
   "id": "3f3e14ee",
   "metadata": {},
   "outputs": [],
   "source": []
  },
  {
   "cell_type": "code",
   "execution_count": null,
   "id": "45b921c4",
   "metadata": {},
   "outputs": [],
   "source": []
  },
  {
   "cell_type": "code",
   "execution_count": 272,
   "id": "76b10895",
   "metadata": {},
   "outputs": [
    {
     "data": {
      "image/png": "[encoded data removed]",
      "text/plain": [
       "<Figure size 432x288 with 1 Axes>"
      ]
     },
     "metadata": {
      "needs_background": "light"
     },
     "output_type": "display_data"
    }
   ],
   "source": [
    "x = df_table['jerk']\n",
    "peaks, _ = find_peaks(x, distance=1)\n",
    "np.diff(peaks)\n",
    "plt.plot(x)\n",
    "plt.plot(peaks, x[peaks], \"x\")\n",
    "plt.show()"
   ]
  },
  {
   "cell_type": "code",
   "execution_count": 240,
   "id": "04e0cab5",
   "metadata": {},
   "outputs": [],
   "source": [
    "#df_table.describe()"
   ]
  },
  {
   "cell_type": "code",
   "execution_count": null,
   "id": "69d5b068",
   "metadata": {},
   "outputs": [],
   "source": []
  }
 ],
 "metadata": {
  "kernelspec": {
   "display_name": "Python 3",
   "language": "python",
   "name": "python3"
  },
  "language_info": {
   "codemirror_mode": {
    "name": "ipython",
    "version": 3
   },
   "file_extension": ".py",
   "mimetype": "text/x-python",
   "name": "python",
   "nbconvert_exporter": "python",
   "pygments_lexer": "ipython3",
   "version": "3.8.8"
  }
 },
 "nbformat": 4,
 "nbformat_minor": 5
}
