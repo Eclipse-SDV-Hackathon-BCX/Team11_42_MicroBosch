{
 "cells": [
  {
   "cell_type": "code",
   "execution_count": 127,
   "id": "6500bf62",
   "metadata": {},
   "outputs": [],
   "source": [
    "import pandas as pd\n",
    "pd.options.display.float_format = '{:,.10f}'.format\n",
    "import numpy as np"
   ]
  },
  {
   "cell_type": "code",
   "execution_count": 128,
   "id": "a5b548e0",
   "metadata": {
    "scrolled": false
   },
   "outputs": [
    {
     "name": "stdout",
     "output_type": "stream",
     "text": [
      "54.385964912280706  for  825.367  seconds\n",
      "78.0  for  154.032  seconds\n"
     ]
    }
   ],
   "source": [
    "vel = []\n",
    "time = []\n",
    "diff_vel = []\n",
    "diff_time = []\n",
    "vel0 = 0\n",
    "vel1 = 0\n",
    "time0 = 0\n",
    "time1 = 0\n",
    "with open('test.txt') as f:\n",
    "    for line in f:\n",
    "        vel0 = float(vel1) * 5 / 18\n",
    "        vel1 = float(line.split(\": \")[1].split(\",\")[0]) * 5 / 18\n",
    "        diff_vel_temp = float(vel1 - vel0)\n",
    "        \n",
    "        time0 = int(time1)\n",
    "        time1 = int(line.split(\": \")[2].split(\"}\")[0])\n",
    "        diff_time_temp = float(time1 - time0)\n",
    "        \n",
    "        #diff_vel.append(diff_vel_temp)\n",
    "        #diff_time.append(diff_time_temp)\n",
    "        vel.append(vel1)\n",
    "        time.append(time1)\n",
    "        #print(line.split(\": \")[1].split(\",\")[0] + \" \" + line.split(\": \")[2].split(\"}\")[0])\n",
    "\n",
    "\n",
    "for i in range(len(vel)):\n",
    "    if i == 0:\n",
    "        diff_vel.append(0)\n",
    "    else:\n",
    "        diff_vel.append(vel[i] - vel[i - 1])\n",
    "\n",
    "for i in range(len(time)):\n",
    "    if i == 0:\n",
    "        diff_time.append(0)\n",
    "    else:\n",
    "        diff_time.append(time[i] - time[i - 1])\n",
    "\n",
    "acc = []\n",
    "for i in range(len(vel)):\n",
    "    if i == 0 :\n",
    "        acc.append(0)\n",
    "    else:\n",
    "        acc.append(diff_vel[i] * 1000 / (diff_time[i]))\n",
    "\n",
    "acc_diff = []\n",
    "for i in range(len(vel)):\n",
    "    if i == 0:\n",
    "        acc_diff.append(0)\n",
    "    else:\n",
    "        acc_diff.append(acc[i] - acc[i - 1])\n",
    "\n",
    "jerk = []\n",
    "for i in range(len(vel)):\n",
    "    if i == 0 :\n",
    "        jerk.append(0)\n",
    "    else:\n",
    "        jerk.append(abs(acc_diff[i] * 1000 / (diff_time[i])))\n",
    "\n",
    "data_list = [vel, time, diff_vel, diff_time, acc, acc_diff, jerk]\n",
    "#i = 0\n",
    "#while i < len(vel):\n",
    "#    print[i]\n",
    "#    i += 1\n",
    "df_table = pd.DataFrame(data_list).transpose()\n",
    "df_table.columns = ['velocity', 'time', 'diff_vel', 'diff_time', 'acc', 'acc_diff', 'jerk']\n",
    "df_table['peak'] = np.where(df_table['jerk'] >= 0.6 , 0, 1)\n",
    "overall_score = df_table['peak'].sum() / df_table['velocity'].count()\n",
    "overall_time = df_table['diff_time'].sum() \n",
    "print(overall_score * 100,  ' for ' , overall_time / 1000, ' seconds')\n",
    "last_100_score = df_table['peak'].tail(100).sum() / df_table['peak'].tail(100).count()\n",
    "last_100_time = df_table['diff_time'].tail(100).sum() \n",
    "print(last_500_score * 100,  ' for ' , last_500_time / 1000, ' seconds')"
   ]
  },
  {
   "cell_type": "code",
   "execution_count": 88,
   "id": "ad47cb4b",
   "metadata": {},
   "outputs": [],
   "source": [
    "#import matplotlib.pyplot as plt\n",
    "#from scipy.misc import electrocardiogram\n",
    "#from scipy.signal import find_peaks"
   ]
  },
  {
   "cell_type": "code",
   "execution_count": 130,
   "id": "1d8cb7f2",
   "metadata": {},
   "outputs": [],
   "source": [
    "#peaks, properties = find_peaks(df_table['jerk'], prominence=(None, 0.6))\n",
    "#properties[\"prominences\"].max()\n",
    "#plt.plot(df_table['jerk'])\n",
    "#plt.plot(peaks, df_table['jerk'][peaks], \"x\")\n",
    "#plt.show()"
   ]
  },
  {
   "cell_type": "code",
   "execution_count": 129,
   "id": "2db7f0e9",
   "metadata": {},
   "outputs": [],
   "source": [
    "#df_table.describe()"
   ]
  }
 ],
 "metadata": {
  "kernelspec": {
   "display_name": "Python 3",
   "language": "python",
   "name": "python3"
  },
  "language_info": {
   "codemirror_mode": {
    "name": "ipython",
    "version": 3
   },
   "file_extension": ".py",
   "mimetype": "text/x-python",
   "name": "python",
   "nbconvert_exporter": "python",
   "pygments_lexer": "ipython3",
   "version": "3.8.8"
  }
 },
 "nbformat": 4,
 "nbformat_minor": 5
}
