{
 "cells": [
  {
   "cell_type": "code",
   "execution_count": 2,
   "metadata": {},
   "outputs": [
    {
     "name": "stdout",
     "output_type": "stream",
     "text": [
      "[{'speed': 1, 'time': 1667991813175}, {'speed': 1, 'time': 1667991813208}, {'speed': 1, 'time': 1667991813241}, {'speed': 1, 'time': 1667991813275}, {'speed': 1, 'time': 1667991813341}, {'speed': 1, 'time': 1667991813407}, {'speed': 1, 'time': 1667991813442}, {'speed': 1, 'time': 1667991813512}, {'speed': 1, 'time': 1667991813547}, {'speed': 1, 'time': 1667991813582}, {'speed': 1, 'time': 1667991813653}, {'speed': 1, 'time': 1667991813689}, {'speed': 1, 'time': 1667991813724}, {'speed': 1, 'time': 1667991813759}, {'speed': 1, 'time': 1667991813793}, {'speed': 1, 'time': 1667991813829}, {'speed': 1, 'time': 1667991813863}, {'speed': 1, 'time': 1667991813897}, {'speed': 1, 'time': 1667991813930}, {'speed': 1, 'time': 1667991813964}, {'speed': 1, 'time': 1667991813997}, {'speed': 1, 'time': 1667991814031}, {'speed': 1, 'time': 1667991814065}, {'speed': 1, 'time': 1667991814098}, {'speed': 1, 'time': 1667991814133}, {'speed': 1, 'time': 1667991814169}, {'speed': 1, 'time': 1667991814207}, {'speed': 1, 'time': 1667991814241}, {'speed': 1, 'time': 1667991814275}, {'speed': 1, 'time': 1667991814309}, {'speed': 1, 'time': 1667991814343}, {'speed': 1, 'time': 1667991814410}, {'speed': 1, 'time': 1667991814477}, {'speed': 1, 'time': 1667991814512}, {'speed': 1, 'time': 1667991814548}, {'speed': 1, 'time': 1667991814583}, {'speed': 1, 'time': 1667991814652}, {'speed': 1, 'time': 1667991814686}, {'speed': 1, 'time': 1667991814719}, {'speed': 1, 'time': 1667991814753}, {'speed': 1, 'time': 1667991814787}, {'speed': 1, 'time': 1667991814820}, {'speed': 1, 'time': 1667991814857}, {'speed': 1, 'time': 1667991814896}, {'speed': 1, 'time': 1667991814932}, {'speed': 1, 'time': 1667991814965}, {'speed': 1, 'time': 1667991814999}, {'speed': 1, 'time': 1667991815032}, {'speed': 1, 'time': 1667991815066}, {'speed': 1, 'time': 1667991815100}, {'speed': 1, 'time': 1667991815133}, {'speed': 1, 'time': 1667991815167}, {'speed': 1, 'time': 1667991815201}, {'speed': 1, 'time': 1667991815236}, {'speed': 1, 'time': 1667991815275}, {'speed': 1, 'time': 1667991815310}, {'speed': 1, 'time': 1667991815344}, {'speed': 1, 'time': 1667991815378}, {'speed': 1, 'time': 1667991815412}, {'speed': 1, 'time': 1667991815445}, {'speed': 1, 'time': 1667991815512}, {'speed': 1, 'time': 1667991815579}, {'speed': 1, 'time': 1667991815680}, {'speed': 1, 'time': 1667991815846}, {'speed': 1, 'time': 1667991815980}, {'speed': 1, 'time': 1667991816015}, {'speed': 1, 'time': 1667991816048}, {'speed': 1, 'time': 1667991816253}, {'speed': 1, 'time': 1667991816288}, {'speed': 1, 'time': 1667991816872}, {'speed': 1, 'time': 1667991816905}, {'speed': 1, 'time': 1667991817623}, {'speed': 1, 'time': 1667991817657}, {'speed': 1, 'time': 1667991818467}, {'speed': 1, 'time': 1667991818501}, {'speed': 1, 'time': 1667991818568}, {'speed': 1, 'time': 1667991818602}, {'speed': 1, 'time': 1667991819353}, {'speed': 1, 'time': 1667991819388}, {'speed': 1, 'time': 1667991819421}, {'speed': 1, 'time': 1667991819589}, {'speed': 1, 'time': 1667991819623}, {'speed': 1, 'time': 1667991819660}, {'speed': 1, 'time': 1667991819694}, {'speed': 1, 'time': 1667991819727}, {'speed': 1, 'time': 1667991819761}, {'speed': 1, 'time': 1667991819794}, {'speed': 1, 'time': 1667991819827}, {'speed': 1, 'time': 1667991819860}, {'speed': 1, 'time': 1667991819893}, {'speed': 1, 'time': 1667991819927}, {'speed': 1, 'time': 1667991819962}, {'speed': 1, 'time': 1667991819996}, {'speed': 1, 'time': 1667991820029}, {'speed': 1, 'time': 1667991820063}, {'speed': 1, 'time': 1667991820096}, {'speed': 1, 'time': 1667991820130}, {'speed': 1, 'time': 1667991820164}, {'speed': 1, 'time': 1667991820198}, {'speed': 1, 'time': 1667991820231}, {'speed': 1, 'time': 1667991820265}, {'speed': 1, 'time': 1667991820299}, {'speed': 1, 'time': 1667991820333}, {'speed': 1, 'time': 1667991820367}, {'speed': 1, 'time': 1667991820400}, {'speed': 1, 'time': 1667991820434}, {'speed': 1, 'time': 1667991820468}, {'speed': 1, 'time': 1667991820568}, {'speed': 1, 'time': 1667991820602}, {'speed': 1, 'time': 1667991820635}, {'speed': 1, 'time': 1667991820668}, {'speed': 1, 'time': 1667991820702}, {'speed': 1, 'time': 1667991820735}, {'speed': 1, 'time': 1667991820768}, {'speed': 1, 'time': 1667991820802}, {'speed': 1, 'time': 1667991820901}, {'speed': 1, 'time': 1667991820935}, {'speed': 1, 'time': 1667991821002}, {'speed': 1, 'time': 1667991821035}, {'speed': 1, 'time': 1667991821069}, {'speed': 1, 'time': 1667991821102}, {'speed': 1, 'time': 1667991821169}, {'speed': 1, 'time': 1667991821202}, {'speed': 1, 'time': 1667991821235}, {'speed': 1, 'time': 1667991821269}, {'speed': 1, 'time': 1667991821302}, {'speed': 1, 'time': 1667991821335}, {'speed': 1, 'time': 1667991821368}, {'speed': 1, 'time': 1667991821402}, {'speed': 1, 'time': 1667991821435}, {'speed': 1, 'time': 1667991821469}, {'speed': 1, 'time': 1667991821502}, {'speed': 1, 'time': 1667991821535}, {'speed': 1, 'time': 1667991821569}, {'speed': 1, 'time': 1667991821635}, {'speed': 1, 'time': 1667991821669}, {'speed': 1, 'time': 1667991821702}, {'speed': 1, 'time': 1667991821735}, {'speed': 1, 'time': 1667991821769}, {'speed': 1, 'time': 1667991821835}, {'speed': 1, 'time': 1667991821868}, {'speed': 1, 'time': 1667991821902}, {'speed': 1, 'time': 1667991821936}, {'speed': 1, 'time': 1667991821969}, {'speed': 1, 'time': 1667991822003}, {'speed': 1, 'time': 1667991822036}, {'speed': 1, 'time': 1667991822069}, {'speed': 1, 'time': 1667991822104}, {'speed': 1, 'time': 1667991822139}, {'speed': 1, 'time': 1667991822176}, {'speed': 1, 'time': 1667991822246}, {'speed': 1, 'time': 1667991822280}, {'speed': 1, 'time': 1667991822313}, {'speed': 1, 'time': 1667991822346}, {'speed': 1, 'time': 1667991822379}, {'speed': 1, 'time': 1667991822413}, {'speed': 1, 'time': 1667991822446}, {'speed': 1, 'time': 1667991822482}, {'speed': 1, 'time': 1667991822519}, {'speed': 1, 'time': 1667991822556}, {'speed': 1, 'time': 1667991822592}, {'speed': 1, 'time': 1667991822627}, {'speed': 1, 'time': 1667991822661}, {'speed': 1, 'time': 1667991822694}, {'speed': 1, 'time': 1667991822727}, {'speed': 1, 'time': 1667991822760}, {'speed': 1, 'time': 1667991822794}, {'speed': 1, 'time': 1667991822827}, {'speed': 1, 'time': 1667991822861}, {'speed': 1, 'time': 1667991822895}, {'speed': 1, 'time': 1667991822928}, {'speed': 1, 'time': 1667991822961}, {'speed': 1, 'time': 1667991822994}, {'speed': 1, 'time': 1667991823028}, {'speed': 1, 'time': 1667991823062}, {'speed': 1, 'time': 1667991823095}, {'speed': 1, 'time': 1667991823163}, {'speed': 1, 'time': 1667991823197}, {'speed': 1, 'time': 1667991823230}, {'speed': 1, 'time': 1667991823297}, {'speed': 1, 'time': 1667991823331}, {'speed': 1, 'time': 1667991823398}, {'speed': 1, 'time': 1667991823431}, {'speed': 1, 'time': 1667991823500}, {'speed': 1, 'time': 1667991823534}, {'speed': 1, 'time': 1667991823568}, {'speed': 1, 'time': 1667991823601}, {'speed': 1, 'time': 1667991823704}, {'speed': 1, 'time': 1667991823738}, {'speed': 1, 'time': 1667991823804}, {'speed': 1, 'time': 1667991823838}, {'speed': 1, 'time': 1667991823872}, {'speed': 1, 'time': 1667991823907}, {'speed': 1, 'time': 1667991823940}, {'speed': 1, 'time': 1667991823974}, {'speed': 1, 'time': 1667991824076}, {'speed': 1, 'time': 1667991824278}, {'speed': 1, 'time': 1667991824311}, {'speed': 1, 'time': 1667991824481}, {'speed': 1, 'time': 1667991824514}]\n"
     ]
    }
   ],
   "source": [
    "import matplotlib.pyplot as plt\n",
    "from scipy.misc import electrocardiogram\n",
    "from scipy.signal import find_peaks\n",
    "import pandas as pd\n",
    "pd.options.display.float_format = '{:,.10f}'.format\n",
    "import numpy as np\n",
    "import json\n",
    "from sklearn import preprocessing\n",
    "import requests\n",
    "# from urllib.request\n",
    "res_a = requests.get('http://localhost:5000').json()\n",
    "print(res_a)\n"
   ]
  },
  {
   "cell_type": "code",
   "execution_count": 3,
   "metadata": {},
   "outputs": [
    {
     "name": "stdout",
     "output_type": "stream",
     "text": [
      "[{'speed': 1.5, 'time': 1667984111456}, {'speed': 1.5, 'time': 1667984111539}, {'speed': 1.5, 'time': 1667984111616}, {'speed': 1.5, 'time': 1667984111774}, {'speed': 1.5, 'time': 1667984111969}, {'speed': 1.5, 'time': 1667984112035}, {'speed': 1.5, 'time': 1667984112190}, {'speed': 1.5, 'time': 1667984112591}, {'speed': 1.5, 'time': 1667984112791}, {'speed': 1.5, 'time': 1667984112861}, {'speed': 1.5, 'time': 1667984113028}, {'speed': 1.5, 'time': 1667984113172}, {'speed': 1.5, 'time': 1667984113258}, {'speed': 1.5, 'time': 1667984113443}, {'speed': 6, 'time': 1667984113817}, {'speed': 6, 'time': 1667984114055}, {'speed': 6, 'time': 1667984114114}, {'speed': 6, 'time': 1667984114195}, {'speed': 6, 'time': 1667984114319}, {'speed': 6, 'time': 1667984114440}, {'speed': 6, 'time': 1667984114514}, {'speed': 6, 'time': 1667984114640}, {'speed': 6, 'time': 1667984114723}, {'speed': 6, 'time': 1667984114778}, {'speed': 6, 'time': 1667984114835}, {'speed': 6, 'time': 1667984114888}, {'speed': 6, 'time': 1667984115051}, {'speed': 6, 'time': 1667984115104}, {'speed': 6, 'time': 1667984115189}, {'speed': 6, 'time': 1667984115258}, {'speed': 6, 'time': 1667984115375}, {'speed': 6, 'time': 1667984115435}, {'speed': 6, 'time': 1667984115506}, {'speed': 6, 'time': 1667984115593}, {'speed': 6, 'time': 1667984115685}, {'speed': 6, 'time': 1667984115757}, {'speed': 6, 'time': 1667984115834}, {'speed': 6, 'time': 1667984115961}, {'speed': 6, 'time': 1667984116063}, {'speed': 6, 'time': 1667984116150}, {'speed': 6, 'time': 1667984116256}, {'speed': 6, 'time': 1667984116448}, {'speed': 1.5, 'time': 1667984116542}, {'speed': 1.5, 'time': 1667984116566}, {'speed': 1.5, 'time': 1667984116662}, {'speed': 6, 'time': 1667984116716}, {'speed': 1.5, 'time': 1667984116840}, {'speed': 6, 'time': 1667984116982}, {'speed': 13, 'time': 1667984117097}, {'speed': 13, 'time': 1667984117231}, {'speed': 13, 'time': 1667984117315}, {'speed': 13, 'time': 1667984117448}, {'speed': 13, 'time': 1667984117510}, {'speed': 13, 'time': 1667984117557}, {'speed': 13, 'time': 1667984117685}, {'speed': 13, 'time': 1667984117749}, {'speed': 13, 'time': 1667984117806}, {'speed': 13, 'time': 1667984117860}, {'speed': 13, 'time': 1667984117947}, {'speed': 6, 'time': 1667984118023}, {'speed': 6, 'time': 1667984118036}, {'speed': 6, 'time': 1667984118130}, {'speed': 6, 'time': 1667984118184}, {'speed': 13, 'time': 1667984118237}, {'speed': 13, 'time': 1667984118264}, {'speed': 13, 'time': 1667984118331}, {'speed': 6, 'time': 1667984118361}, {'speed': 6, 'time': 1667984118399}, {'speed': 6, 'time': 1667984118467}, {'speed': 13, 'time': 1667984118538}, {'speed': 13, 'time': 1667984118561}, {'speed': 6, 'time': 1667984118607}, {'speed': 6, 'time': 1667984118634}, {'speed': 6, 'time': 1667984118681}, {'speed': 1.5, 'time': 1667984118779}, {'speed': 1.5, 'time': 1667984118798}, {'speed': 1.5, 'time': 1667984118863}, {'speed': 1.5, 'time': 1667984118917}, {'speed': 1.5, 'time': 1667984118967}, {'speed': 1.5, 'time': 1667984119111}, {'speed': 0, 'time': 1667984119132}, {'speed': 0, 'time': 1667984119158}, {'speed': 0, 'time': 1667984291845}, {'speed': 1.5, 'time': 1667984291867}, {'speed': 1.5, 'time': 1667984291881}, {'speed': 1.5, 'time': 1667984291924}, {'speed': 0, 'time': 1667984291938}, {'speed': 0, 'time': 1667984291955}, {'speed': 0, 'time': 1667984437912}, {'speed': 1.5, 'time': 1667984437926}, {'speed': 1.5, 'time': 1667984437949}, {'speed': 1.5, 'time': 1667984438052}, {'speed': 1.5, 'time': 1667984438074}, {'speed': 0, 'time': 1667984438088}, {'speed': 0, 'time': 1667984438112}, {'speed': 0, 'time': 1667984438130}, {'speed': 0, 'time': 1667984498473}, {'speed': 6, 'time': 1667984498491}, {'speed': 6, 'time': 1667984498504}, {'speed': 6, 'time': 1667984498636}, {'speed': 6, 'time': 1667984498683}, {'speed': 6, 'time': 1667984498733}, {'speed': 6, 'time': 1667984498818}, {'speed': 13, 'time': 1667984498846}, {'speed': 6, 'time': 1667984498897}, {'speed': 6, 'time': 1667984498912}, {'speed': 6, 'time': 1667984498962}, {'speed': 6, 'time': 1667984499012}, {'speed': 6, 'time': 1667984499053}, {'speed': 6, 'time': 1667984499100}, {'speed': 6, 'time': 1667984499146}, {'speed': 6, 'time': 1667984499198}, {'speed': 6, 'time': 1667984499245}, {'speed': 6, 'time': 1667984499287}, {'speed': 6, 'time': 1667984499329}, {'speed': 6, 'time': 1667984499375}, {'speed': 6, 'time': 1667984499418}, {'speed': 6, 'time': 1667984499584}, {'speed': 6, 'time': 1667984499640}, {'speed': 6, 'time': 1667984499725}, {'speed': 6, 'time': 1667984499777}, {'speed': 6, 'time': 1667984499825}, {'speed': 1.5, 'time': 1667984500080}, {'speed': 1.5, 'time': 1667984500095}, {'speed': 1.5, 'time': 1667984500142}, {'speed': 1.5, 'time': 1667984500307}, {'speed': 1.5, 'time': 1667984500352}, {'speed': 1.5, 'time': 1667984500406}, {'speed': 1.5, 'time': 1667984500521}, {'speed': 1.5, 'time': 1667984500681}, {'speed': 6, 'time': 1667984500710}, {'speed': 6, 'time': 1667984500727}, {'speed': 1.5, 'time': 1667984500757}, {'speed': 6, 'time': 1667984500837}, {'speed': 13, 'time': 1667984500899}, {'speed': 13, 'time': 1667984500917}, {'speed': 13, 'time': 1667984500975}, {'speed': 13, 'time': 1667984501024}, {'speed': 13, 'time': 1667984501067}, {'speed': 13, 'time': 1667984501116}, {'speed': 13, 'time': 1667984501178}, {'speed': 13, 'time': 1667984501235}, {'speed': 13, 'time': 1667984501575}, {'speed': 13, 'time': 1667984501616}, {'speed': 13, 'time': 1667984501660}, {'speed': 6, 'time': 1667984502162}, {'speed': 1.5, 'time': 1667984502947}, {'speed': 1.5, 'time': 1667984503725}, {'speed': 1.5, 'time': 1667984503769}, {'speed': 1.5, 'time': 1667984504276}, {'speed': 1.5, 'time': 1667984504329}, {'speed': 1.5, 'time': 1667984504375}, {'speed': 1.5, 'time': 1667984504422}, {'speed': 1.5, 'time': 1667984504516}, {'speed': 1.5, 'time': 1667984504559}, {'speed': 1.5, 'time': 1667984504607}, {'speed': 1.5, 'time': 1667984504699}, {'speed': 1.5, 'time': 1667984504743}, {'speed': 1.5, 'time': 1667984504839}, {'speed': 1.5, 'time': 1667984504883}, {'speed': 1.5, 'time': 1667984504939}, {'speed': 1.5, 'time': 1667984504998}, {'speed': 1.5, 'time': 1667984505047}, {'speed': 1.5, 'time': 1667984505101}, {'speed': 1.5, 'time': 1667984505145}, {'speed': 1.5, 'time': 1667984505191}, {'speed': 1.5, 'time': 1667984505249}, {'speed': 1.5, 'time': 1667984505375}, {'speed': 1.5, 'time': 1667984505429}, {'speed': 13, 'time': 1667984505589}, {'speed': 13, 'time': 1667984505705}, {'speed': 1.5, 'time': 1667984505756}, {'speed': 1.5, 'time': 1667984505771}, {'speed': 13, 'time': 1667984505806}, {'speed': 13, 'time': 1667984505833}, {'speed': 13, 'time': 1667984505886}, {'speed': 13, 'time': 1667984505946}, {'speed': 6, 'time': 1667984505992}, {'speed': 6, 'time': 1667984506008}, {'speed': 6, 'time': 1667984506066}, {'speed': 6, 'time': 1667984506171}, {'speed': 6, 'time': 1667984506382}, {'speed': 6, 'time': 1667984506483}, {'speed': 6, 'time': 1667984506553}, {'speed': 6, 'time': 1667984506660}, {'speed': 1.5, 'time': 1667984506689}, {'speed': 1.5, 'time': 1667984506879}, {'speed': 6, 'time': 1667984508043}, {'speed': 6, 'time': 1667984508066}, {'speed': 6, 'time': 1667984508195}, {'speed': 6, 'time': 1667984508351}, {'speed': 1.5, 'time': 1667984508713}, {'speed': 1.5, 'time': 1667984510406}, {'speed': 1.5, 'time': 1667984510457}, {'speed': 1.5, 'time': 1667984510511}, {'speed': 1.5, 'time': 1667984510566}, {'speed': 1.5, 'time': 1667984510615}, {'speed': 1.5, 'time': 1667984510717}, {'speed': 1.5, 'time': 1667984510808}, {'speed': 1.5, 'time': 1667984510909}]\n"
     ]
    }
   ],
   "source": [
    "f = open(\"/home/aswin/jine/Team11_42_MicroBosch/demo/get_response.json\")\n",
    "data = json.load(f)\n",
    "print(data)"
   ]
  },
  {
   "cell_type": "code",
   "execution_count": null,
   "metadata": {},
   "outputs": [],
   "source": []
  }
 ],
 "metadata": {
  "kernelspec": {
   "display_name": "Python 3.9.13 ('fast')",
   "language": "python",
   "name": "python3"
  },
  "language_info": {
   "codemirror_mode": {
    "name": "ipython",
    "version": 3
   },
   "file_extension": ".py",
   "mimetype": "text/x-python",
   "name": "python",
   "nbconvert_exporter": "python",
   "pygments_lexer": "ipython3",
   "version": "3.9.13"
  },
  "orig_nbformat": 4,
  "vscode": {
   "interpreter": {
    "hash": "91cf809ebeac7834cab322c0e9393d8c235d5aedcc8b94bfe1d55e7236ca8197"
   }
  }
 },
 "nbformat": 4,
 "nbformat_minor": 2
}
